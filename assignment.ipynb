{
 "cells": [
  {
   "cell_type": "code",
   "execution_count": 1,
   "id": "7391199f-2a05-4b17-8faf-e1d2022598c4",
   "metadata": {},
   "outputs": [],
   "source": [
    "import pandas as pd\n",
    "import numpy as np \n",
    "import matplotlib.pyplot as plt"
   ]
  },
  {
   "cell_type": "markdown",
   "id": "57bea181-49f8-40bd-80f4-65dcb3fe19ef",
   "metadata": {},
   "source": [
    "Question 1\n"
   ]
  },
  {
   "cell_type": "code",
   "execution_count": 72,
   "id": "7bd88330-48c1-4198-928c-739d168afdf2",
   "metadata": {},
   "outputs": [],
   "source": [
    "survey=pd.read_excel('Sample Survey.xlsx',sheet_name='Data')"
   ]
  },
  {
   "cell_type": "code",
   "execution_count": 29,
   "id": "68d6a69b-1fdb-44bb-b2d9-1e48bfd13fb8",
   "metadata": {
    "scrolled": true
   },
   "outputs": [
    {
     "data": {
      "text/html": [
       "<div>\n",
       "<style scoped>\n",
       "    .dataframe tbody tr th:only-of-type {\n",
       "        vertical-align: middle;\n",
       "    }\n",
       "\n",
       "    .dataframe tbody tr th {\n",
       "        vertical-align: top;\n",
       "    }\n",
       "\n",
       "    .dataframe thead th {\n",
       "        text-align: right;\n",
       "    }\n",
       "</style>\n",
       "<table border=\"1\" class=\"dataframe\">\n",
       "  <thead>\n",
       "    <tr style=\"text-align: right;\">\n",
       "      <th></th>\n",
       "      <th>response_id</th>\n",
       "      <th>collection_date</th>\n",
       "      <th>urban_rural</th>\n",
       "      <th>education</th>\n",
       "      <th>income</th>\n",
       "      <th>Vote_Now</th>\n",
       "      <th>Past_Vote</th>\n",
       "      <th>CM_satisfaction</th>\n",
       "      <th>MLA_satisfaction</th>\n",
       "      <th>age</th>\n",
       "      <th>gender</th>\n",
       "      <th>assembly_no</th>\n",
       "      <th>category</th>\n",
       "      <th>weight</th>\n",
       "    </tr>\n",
       "  </thead>\n",
       "  <tbody>\n",
       "    <tr>\n",
       "      <th>0</th>\n",
       "      <td>1</td>\n",
       "      <td>2020-08-24</td>\n",
       "      <td>Rural</td>\n",
       "      <td>12th Pass</td>\n",
       "      <td>₹ 30,000 - ₹ 50,000</td>\n",
       "      <td>BJP</td>\n",
       "      <td>BJP</td>\n",
       "      <td>Fully Dissatisfied</td>\n",
       "      <td>Fully Dissatisfied</td>\n",
       "      <td>26</td>\n",
       "      <td>Male</td>\n",
       "      <td>211</td>\n",
       "      <td>Gen</td>\n",
       "      <td>0.346969</td>\n",
       "    </tr>\n",
       "    <tr>\n",
       "      <th>1</th>\n",
       "      <td>2</td>\n",
       "      <td>2020-08-24</td>\n",
       "      <td>Rural</td>\n",
       "      <td>Graduate</td>\n",
       "      <td>₹ 20,000 - ₹ 30,000</td>\n",
       "      <td>RLSP</td>\n",
       "      <td>JD(U)</td>\n",
       "      <td>Somewhat Satisfied</td>\n",
       "      <td>Fully Dissatisfied</td>\n",
       "      <td>34</td>\n",
       "      <td>Male</td>\n",
       "      <td>189</td>\n",
       "      <td>BC</td>\n",
       "      <td>0.603419</td>\n",
       "    </tr>\n",
       "    <tr>\n",
       "      <th>2</th>\n",
       "      <td>3</td>\n",
       "      <td>2020-08-24</td>\n",
       "      <td>Rural</td>\n",
       "      <td>Graduate</td>\n",
       "      <td>₹ 5,000 - ₹ 10,000</td>\n",
       "      <td>JAP(L)</td>\n",
       "      <td>BJP</td>\n",
       "      <td>Fully Dissatisfied</td>\n",
       "      <td>Somewhat Satisfied</td>\n",
       "      <td>25</td>\n",
       "      <td>Male</td>\n",
       "      <td>191</td>\n",
       "      <td>Gen</td>\n",
       "      <td>0.673762</td>\n",
       "    </tr>\n",
       "    <tr>\n",
       "      <th>3</th>\n",
       "      <td>4</td>\n",
       "      <td>2020-08-24</td>\n",
       "      <td>Urban</td>\n",
       "      <td>Graduate</td>\n",
       "      <td>₹ 10,000 - ₹ 20,000</td>\n",
       "      <td>RJD</td>\n",
       "      <td>RJD</td>\n",
       "      <td>Fully Dissatisfied</td>\n",
       "      <td>Somewhat Satisfied</td>\n",
       "      <td>36</td>\n",
       "      <td>Male</td>\n",
       "      <td>194</td>\n",
       "      <td>Gen</td>\n",
       "      <td>1.101298</td>\n",
       "    </tr>\n",
       "    <tr>\n",
       "      <th>4</th>\n",
       "      <td>5</td>\n",
       "      <td>2020-08-24</td>\n",
       "      <td>Rural</td>\n",
       "      <td>Graduate</td>\n",
       "      <td>₹ 50,000 - ₹ 80,000</td>\n",
       "      <td>JD(U)</td>\n",
       "      <td>Did not vote</td>\n",
       "      <td>Fully Satisfied</td>\n",
       "      <td>Fully Satisfied</td>\n",
       "      <td>22</td>\n",
       "      <td>Male</td>\n",
       "      <td>176</td>\n",
       "      <td>BC</td>\n",
       "      <td>0.333505</td>\n",
       "    </tr>\n",
       "  </tbody>\n",
       "</table>\n",
       "</div>"
      ],
      "text/plain": [
       "   response_id collection_date urban_rural  education               income  \\\n",
       "0            1      2020-08-24       Rural  12th Pass  ₹ 30,000 - ₹ 50,000   \n",
       "1            2      2020-08-24       Rural   Graduate  ₹ 20,000 - ₹ 30,000   \n",
       "2            3      2020-08-24       Rural   Graduate   ₹ 5,000 - ₹ 10,000   \n",
       "3            4      2020-08-24       Urban   Graduate  ₹ 10,000 - ₹ 20,000   \n",
       "4            5      2020-08-24       Rural   Graduate  ₹ 50,000 - ₹ 80,000   \n",
       "\n",
       "  Vote_Now     Past_Vote     CM_satisfaction    MLA_satisfaction age gender  \\\n",
       "0      BJP           BJP  Fully Dissatisfied  Fully Dissatisfied  26   Male   \n",
       "1     RLSP         JD(U)  Somewhat Satisfied  Fully Dissatisfied  34   Male   \n",
       "2   JAP(L)           BJP  Fully Dissatisfied  Somewhat Satisfied  25   Male   \n",
       "3      RJD           RJD  Fully Dissatisfied  Somewhat Satisfied  36   Male   \n",
       "4    JD(U)  Did not vote     Fully Satisfied     Fully Satisfied  22   Male   \n",
       "\n",
       "   assembly_no category    weight  \n",
       "0          211      Gen  0.346969  \n",
       "1          189       BC  0.603419  \n",
       "2          191      Gen  0.673762  \n",
       "3          194      Gen  1.101298  \n",
       "4          176       BC  0.333505  "
      ]
     },
     "execution_count": 29,
     "metadata": {},
     "output_type": "execute_result"
    }
   ],
   "source": [
    "survey.head()"
   ]
  },
  {
   "cell_type": "markdown",
   "id": "91043f3b-6bc3-47a0-bdcd-d17f7e4c3c52",
   "metadata": {},
   "source": [
    "Question 2\n"
   ]
  },
  {
   "cell_type": "code",
   "execution_count": 30,
   "id": "b4a3e5e2-c05a-4332-ba8b-d01d99a62b06",
   "metadata": {},
   "outputs": [],
   "source": [
    "samples_per_day = survey['collection_date'].value_counts()\n"
   ]
  },
  {
   "cell_type": "code",
   "execution_count": 39,
   "id": "d4a0188b-40fa-43c8-891d-308c8e731f44",
   "metadata": {},
   "outputs": [
    {
     "name": "stdout",
     "output_type": "stream",
     "text": [
      "collection_date\n",
      "2020-08-24    1479\n",
      "2020-08-25     998\n",
      "2020-08-28     761\n",
      "2020-08-27     665\n",
      "2020-08-29     620\n",
      "2020-09-01     607\n",
      "2020-08-26     598\n",
      "2020-08-30     582\n",
      "2020-08-31     557\n",
      "Name: count, dtype: int64\n"
     ]
    }
   ],
   "source": [
    "print(samples_per_day)"
   ]
  },
  {
   "cell_type": "markdown",
   "id": "a048703f-bf3b-4e24-be72-b4ed0d3a4f0e",
   "metadata": {},
   "source": [
    "Question3"
   ]
  },
  {
   "cell_type": "code",
   "execution_count": 31,
   "id": "dbe1e84a-bcb8-4054-86fa-6a28251e53c8",
   "metadata": {},
   "outputs": [
    {
     "name": "stdout",
     "output_type": "stream",
     "text": [
      "[26 34 25 36 22 38 23 42 51 29 24 30 39 37 19 44 53 32 21 18 20 27 48 28\n",
      " 45 74 35 31 70 40 49 46 43 41 33 58 '24ko' 56 50 55 54 62 60 59 47 61 52\n",
      " 66 57 67 65 71 63 64 68 69 99 72 75 76]\n"
     ]
    }
   ],
   "source": [
    "print(survey['age'].unique())"
   ]
  },
  {
   "cell_type": "code",
   "execution_count": 76,
   "id": "abbba220-d9bb-4a58-afc2-38d6093f4597",
   "metadata": {},
   "outputs": [],
   "source": [
    "survey = survey[survey['age'] != '24ko']\n"
   ]
  },
  {
   "cell_type": "code",
   "execution_count": 77,
   "id": "cc62d646-3f94-45d0-959c-0c79702c3abf",
   "metadata": {},
   "outputs": [],
   "source": [
    "survey['age'] = survey['age'].astype(int)\n",
    "total_respondents = len(survey)\n",
    "respondents_under_45 = len(survey[survey['age']<45])\n",
    "proportion_under_45 = respondents_under_45 / total_respondents"
   ]
  },
  {
   "cell_type": "code",
   "execution_count": 75,
   "id": "91fa0cb9-8645-47d0-a5e2-d0bb449e3afb",
   "metadata": {
    "scrolled": true
   },
   "outputs": [
    {
     "name": "stdout",
     "output_type": "stream",
     "text": [
      "0.9318380425284009\n"
     ]
    }
   ],
   "source": [
    "print(proportion_under_45)"
   ]
  },
  {
   "cell_type": "markdown",
   "id": "7949de61-868d-49e2-9711-645447ebb010",
   "metadata": {},
   "source": [
    "Question 4"
   ]
  },
  {
   "cell_type": "code",
   "execution_count": 44,
   "id": "a10b6809-823c-404c-a6f9-43aa8ade9262",
   "metadata": {},
   "outputs": [],
   "source": [
    "age_groups = {\n",
    "    (18, 25): '18-25',\n",
    "    (25, 40): '25-40',\n",
    "    (40, 55): '40-55',\n",
    "    (55, float('inf')): '55+'\n",
    "}"
   ]
  },
  {
   "cell_type": "code",
   "execution_count": 45,
   "id": "5dad7538-3dc2-4edd-bc91-a7b9140b1483",
   "metadata": {},
   "outputs": [],
   "source": [
    "def assign_age_group(age):\n",
    "    for age_range, group in age_groups.items():\n",
    "        if age_range[0] <= age < age_range[1]:\n",
    "            return group\n",
    "    return None"
   ]
  },
  {
   "cell_type": "code",
   "execution_count": 46,
   "id": "0b7f65c1-7b7b-4fd8-963c-89a98d49b853",
   "metadata": {},
   "outputs": [],
   "source": [
    "survey['age_group'] = survey['age'].apply(assign_age_group)\n"
   ]
  },
  {
   "cell_type": "code",
   "execution_count": 49,
   "id": "49dd37ce-4e1a-493d-a4fb-a41a7dd17830",
   "metadata": {},
   "outputs": [
    {
     "name": "stdout",
     "output_type": "stream",
     "text": [
      "      response_id  age age_group\n",
      "0               1   26     25-40\n",
      "1               2   34     25-40\n",
      "2               3   25     25-40\n",
      "3               4   36     25-40\n",
      "4               5   22     18-25\n",
      "...           ...  ...       ...\n",
      "6862         6863   25     25-40\n",
      "6863         6864   30     25-40\n",
      "6864         6865   20     18-25\n",
      "6865         6866   23     18-25\n",
      "6866         6867   33     25-40\n",
      "\n",
      "[6866 rows x 3 columns]\n"
     ]
    }
   ],
   "source": [
    "print(survey[['response_id', 'age', 'age_group']])\n"
   ]
  },
  {
   "cell_type": "markdown",
   "id": "71fcdcc5-859d-4d7a-b187-0b5ab1eb53f2",
   "metadata": {},
   "source": [
    "Question 5"
   ]
  },
  {
   "cell_type": "code",
   "execution_count": 52,
   "id": "402fd17e-ba4d-4c54-8238-4a4dbb8bb75d",
   "metadata": {},
   "outputs": [
    {
     "name": "stdout",
     "output_type": "stream",
     "text": [
      "age_group\n",
      "25-40    3844\n",
      "18-25    2093\n",
      "40-55     801\n",
      "55+       128\n",
      "Name: count, dtype: int64\n"
     ]
    }
   ],
   "source": [
    "samples_per_age_group = survey['age_group'].value_counts()\n",
    "print(samples_per_age_group)\n"
   ]
  },
  {
   "cell_type": "code",
   "execution_count": 56,
   "id": "66e5fe3a-3800-41fa-8abf-6e6a406b8ad1",
   "metadata": {},
   "outputs": [
    {
     "name": "stdout",
     "output_type": "stream",
     "text": [
      "25-40\n",
      "3844\n"
     ]
    }
   ],
   "source": [
    "most_samples_age_group = samples_per_age_group.idxmax()\n",
    "most_samples_count = samples_per_age_group.max()\n",
    "print(most_samples_age_group)\n",
    "print(most_samples_count)\n",
    "\n"
   ]
  },
  {
   "cell_type": "markdown",
   "id": "b5ae61b5-eb2a-4292-9a4a-d67f207a1fe0",
   "metadata": {},
   "source": [
    "Question 6"
   ]
  },
  {
   "cell_type": "code",
   "execution_count": 59,
   "id": "c59e7b86-0d55-4f08-977b-63706a4a9ade",
   "metadata": {},
   "outputs": [
    {
     "name": "stdout",
     "output_type": "stream",
     "text": [
      "0.1181182639091174\n"
     ]
    }
   ],
   "source": [
    "rjd_both_count = len(survey[(survey['Vote_Now'] == 'RJD') & (survey['Past_Vote'] == 'RJD')])\n",
    "proportion_rjd_both = rjd_both_count / total_respondents\n",
    "print(proportion_rjd_both)\n"
   ]
  },
  {
   "cell_type": "markdown",
   "id": "be3a8f9d-4b94-4891-8cfd-516f3ef6c89d",
   "metadata": {},
   "source": [
    "Question 7"
   ]
  },
  {
   "cell_type": "code",
   "execution_count": 80,
   "id": "598b1611-3c67-4890-9883-99abc81d3636",
   "metadata": {},
   "outputs": [
    {
     "name": "stdout",
     "output_type": "stream",
     "text": [
      "collection_date\n",
      "2020-08-24    0.098106\n",
      "2020-08-25    0.095190\n",
      "2020-08-26    0.098662\n",
      "2020-08-27    0.081203\n",
      "2020-08-28    0.120894\n",
      "2020-08-29    0.117742\n",
      "2020-08-30    0.111684\n",
      "2020-08-31    0.111311\n",
      "2020-09-01    0.123558\n",
      "dtype: float64\n"
     ]
    }
   ],
   "source": [
    "fully_satisfied_per_day = survey[survey['CM_satisfaction'] == 'Fully Satisfied'].groupby('collection_date').size()\n",
    "total_respondents_per_day = survey.groupby('collection_date').size()\n",
    "proportion_fully_satisfied_per_day = fully_satisfied_per_day / total_respondents_per_day\n",
    "print(proportion_fully_satisfied_per_day)\n"
   ]
  },
  {
   "cell_type": "markdown",
   "id": "083a2525-1c1c-4c6f-bea3-a57f2a57646a",
   "metadata": {},
   "source": [
    "Question 8"
   ]
  },
  {
   "cell_type": "code",
   "execution_count": 84,
   "id": "6c9f189f-78a3-4441-b3e1-ff7f25edcb13",
   "metadata": {},
   "outputs": [
    {
     "name": "stdout",
     "output_type": "stream",
     "text": [
      "collection_date\n",
      "2020-08-24    0.434371\n",
      "2020-08-25    0.433868\n",
      "2020-08-26    0.431438\n",
      "2020-08-27    0.442105\n",
      "2020-08-28    0.458607\n",
      "2020-08-29    0.456452\n",
      "2020-08-30    0.429553\n",
      "2020-08-31    0.450628\n",
      "2020-09-01    0.415157\n",
      "dtype: float64\n"
     ]
    }
   ],
   "source": [
    "fully_dissatisfied_per_day = survey[survey['CM_satisfaction'] == 'Fully Dissatisfied'].groupby('collection_date').size()\n",
    "total_respondents_per_day = survey.groupby('collection_date').size()\n",
    "proportion_fully_satisfied_per_day = fully_dissatisfied_per_day / total_respondents_per_day\n",
    "print(proportion_fully_satisfied_per_day)\n",
    "\n"
   ]
  },
  {
   "cell_type": "code",
   "execution_count": null,
   "id": "d9b5715b-2633-4eb3-b3b4-78135f5063e9",
   "metadata": {},
   "outputs": [],
   "source": []
  }
 ],
 "metadata": {
  "kernelspec": {
   "display_name": "Python 3 (ipykernel)",
   "language": "python",
   "name": "python3"
  },
  "language_info": {
   "codemirror_mode": {
    "name": "ipython",
    "version": 3
   },
   "file_extension": ".py",
   "mimetype": "text/x-python",
   "name": "python",
   "nbconvert_exporter": "python",
   "pygments_lexer": "ipython3",
   "version": "3.11.5"
  }
 },
 "nbformat": 4,
 "nbformat_minor": 5
}
